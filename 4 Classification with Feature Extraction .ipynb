{
 "cells": [
  {
   "cell_type": "markdown",
   "metadata": {},
   "source": [
    "# <center>Feature Extraction,Classification and Sentiment Analysis</center>"
   ]
  },
  {
   "cell_type": "markdown",
   "metadata": {},
   "source": [
    "### 1. Loading Dependencies"
   ]
  },
  {
   "cell_type": "code",
   "execution_count": 285,
   "metadata": {},
   "outputs": [],
   "source": [
    "from IPython.core.interactiveshell import InteractiveShell\n",
    "InteractiveShell.ast_node_interactivity = \"all\"\n",
    "import requests\n",
    "from bs4 import BeautifulSoup \n",
    "import numpy as np\n",
    "import pandas as pd\n",
    "import re\n",
    "from decimal import Decimal\n",
    "import csv\n",
    "import os\n",
    "import string\n",
    "#import math\n",
    "import pandas as pd\n",
    "import numpy as np\n",
    "import matplotlib.pyplot as plt\n",
    "import seaborn as sns\n",
    "colors = sns.color_palette()\n",
    "%matplotlib inline\n",
    "from nltk.corpus import stopwords\n",
    "import string\n",
    "eng_stopwords = set(stopwords.words(\"english\"))\n",
    "from sklearn.feature_extraction.text import TfidfVectorizer, CountVectorizer\n",
    "from sklearn.decomposition import TruncatedSVD\n",
    "from sklearn import ensemble, metrics, model_selection, naive_bayes\n",
    "from sklearn.model_selection import train_test_split\n",
    "#import matplotlib.pyplot as plt"
   ]
  },
  {
   "cell_type": "code",
   "execution_count": 286,
   "metadata": {},
   "outputs": [],
   "source": [
    "df = pd.read_csv(\"/Users/grv/Downloads/sample_for_all.csv\")\n"
   ]
  },
  {
   "cell_type": "code",
   "execution_count": 288,
   "metadata": {},
   "outputs": [
    {
     "data": {
      "text/plain": [
       "Reviewer Details         0\n",
       " Effectiveness Rating    0\n",
       " Ease_of_Use Rating      0\n",
       " Satisfaction Rating     0\n",
       " Comment                 0\n",
       "Age                      0\n",
       "Gender                   0\n",
       "dtype: int64"
      ]
     },
     "execution_count": 288,
     "metadata": {},
     "output_type": "execute_result"
    }
   ],
   "source": [
    "df.isna().sum()"
   ]
  },
  {
   "cell_type": "code",
   "execution_count": 289,
   "metadata": {},
   "outputs": [
    {
     "data": {
      "text/html": [
       "<div>\n",
       "<style scoped>\n",
       "    .dataframe tbody tr th:only-of-type {\n",
       "        vertical-align: middle;\n",
       "    }\n",
       "\n",
       "    .dataframe tbody tr th {\n",
       "        vertical-align: top;\n",
       "    }\n",
       "\n",
       "    .dataframe thead th {\n",
       "        text-align: right;\n",
       "    }\n",
       "</style>\n",
       "<table border=\"1\" class=\"dataframe\">\n",
       "  <thead>\n",
       "    <tr style=\"text-align: right;\">\n",
       "      <th></th>\n",
       "      <th>Reviewer Details</th>\n",
       "      <th>Effectiveness Rating</th>\n",
       "      <th>Ease_of_Use Rating</th>\n",
       "      <th>Satisfaction Rating</th>\n",
       "      <th>Comment</th>\n",
       "      <th>Age</th>\n",
       "      <th>Gender</th>\n",
       "    </tr>\n",
       "  </thead>\n",
       "  <tbody>\n",
       "    <tr>\n",
       "      <th>0</th>\n",
       "      <td>virleo| 55-64 Female  on Treatment for less t...</td>\n",
       "      <td>1</td>\n",
       "      <td>1</td>\n",
       "      <td>1</td>\n",
       "      <td>A few years ago a doctor at an urgent care cli...</td>\n",
       "      <td>55-64</td>\n",
       "      <td>Female</td>\n",
       "    </tr>\n",
       "    <tr>\n",
       "      <th>1</th>\n",
       "      <td>Mtdwnurse1| 45-54 Female  on Treatment for 6 ...</td>\n",
       "      <td>4</td>\n",
       "      <td>4</td>\n",
       "      <td>4</td>\n",
       "      <td>After my neck fusion to my cervical C5|6|7| bo...</td>\n",
       "      <td>45-54</td>\n",
       "      <td>Female</td>\n",
       "    </tr>\n",
       "    <tr>\n",
       "      <th>2</th>\n",
       "      <td>Foots55| 65-74 Female  on Treatment for 1 to ...</td>\n",
       "      <td>3</td>\n",
       "      <td>2</td>\n",
       "      <td>2</td>\n",
       "      <td>Its been ok but had others that worked better</td>\n",
       "      <td>65-74</td>\n",
       "      <td>Female</td>\n",
       "    </tr>\n",
       "    <tr>\n",
       "      <th>3</th>\n",
       "      <td>GoneRacin24| 65-74 Female  on Treatment for 1...</td>\n",
       "      <td>1</td>\n",
       "      <td>5</td>\n",
       "      <td>1</td>\n",
       "      <td>Severe neuropathic pain in left leg into my to...</td>\n",
       "      <td>65-74</td>\n",
       "      <td>Female</td>\n",
       "    </tr>\n",
       "    <tr>\n",
       "      <th>4</th>\n",
       "      <td>75 or over Male  on Treatment for less than 1...</td>\n",
       "      <td>2</td>\n",
       "      <td>5</td>\n",
       "      <td>1</td>\n",
       "      <td>Pain relief was minimal. I had almost all the ...</td>\n",
       "      <td>75 or over</td>\n",
       "      <td>Male</td>\n",
       "    </tr>\n",
       "  </tbody>\n",
       "</table>\n",
       "</div>"
      ],
      "text/plain": [
       "                                    Reviewer Details   Effectiveness Rating  \\\n",
       "0   virleo| 55-64 Female  on Treatment for less t...                      1   \n",
       "1   Mtdwnurse1| 45-54 Female  on Treatment for 6 ...                      4   \n",
       "2   Foots55| 65-74 Female  on Treatment for 1 to ...                      3   \n",
       "3   GoneRacin24| 65-74 Female  on Treatment for 1...                      1   \n",
       "4   75 or over Male  on Treatment for less than 1...                      2   \n",
       "\n",
       "    Ease_of_Use Rating   Satisfaction Rating  \\\n",
       "0                    1                     1   \n",
       "1                    4                     4   \n",
       "2                    2                     2   \n",
       "3                    5                     1   \n",
       "4                    5                     1   \n",
       "\n",
       "                                             Comment         Age  Gender  \n",
       "0  A few years ago a doctor at an urgent care cli...       55-64  Female  \n",
       "1  After my neck fusion to my cervical C5|6|7| bo...       45-54  Female  \n",
       "2     Its been ok but had others that worked better       65-74  Female  \n",
       "3  Severe neuropathic pain in left leg into my to...       65-74  Female  \n",
       "4  Pain relief was minimal. I had almost all the ...  75 or over    Male  "
      ]
     },
     "execution_count": 289,
     "metadata": {},
     "output_type": "execute_result"
    }
   ],
   "source": [
    "df.head()"
   ]
  },
  {
   "cell_type": "markdown",
   "metadata": {},
   "source": [
    "###### Satisfication Rating distribution based on Age groups\n",
    "The below graph depicts Satisfaction Rating  distributed over different age intervals and thus we can say Age group 45-54 and 55-64 are highly satisfied with the medicies they are using as compared to other age groups."
   ]
  },
  {
   "cell_type": "code",
   "execution_count": 290,
   "metadata": {
    "scrolled": true
   },
   "outputs": [
    {
     "name": "stderr",
     "output_type": "stream",
     "text": [
      "/anaconda3/lib/python3.6/site-packages/seaborn/axisgrid.py:703: UserWarning: Using the barplot function without specifying `order` is likely to produce an incorrect plot.\n",
      "  warnings.warn(warning)\n"
     ]
    },
    {
     "data": {
      "text/plain": [
       "<matplotlib.figure.Figure at 0x1a2fd1ea90>"
      ]
     },
     "metadata": {},
     "output_type": "display_data"
    },
    {
     "data": {
      "image/png": "[encoded data removed]",
      "text/plain": [
       "<matplotlib.figure.Figure at 0x1a2f3295c0>"
      ]
     },
     "metadata": {},
     "output_type": "display_data"
    }
   ],
   "source": [
    "grouped_df = df.groupby(['Age', ' Satisfaction Rating']).count().reset_index()\n",
    "#print(grouped_df)\n",
    "plt.figure(figsize=(12,8))\n",
    "g = sns.FacetGrid(grouped_df, col=\"Age\")\n",
    "g.map(sns.barplot, \" Satisfaction Rating\", ' Comment');"
   ]
  },
  {
   "cell_type": "markdown",
   "metadata": {},
   "source": [
    "###### Comments - Adding number of words, unique words, characters, stopwords, title."
   ]
  },
  {
   "cell_type": "code",
   "execution_count": 239,
   "metadata": {},
   "outputs": [],
   "source": [
    "\n",
    "## Number of words in the text ##\n",
    "df[\"num_words\"] = df[\" Comment\"].apply(lambda x: len(str(x).split()))\n",
    "\n",
    "\n",
    "## Number of unique words in the text ##\n",
    "df[\"num_unique_words\"] = df[\" Comment\"].apply(lambda x: len(set(str(x).split())))\n",
    "\n",
    "\n",
    "## Number of characters in the text ##\n",
    "df[\"num_chars\"] = df[\" Comment\"].apply(lambda x: len(str(x)))\n",
    "\n",
    "\n",
    "## Number of stopwords in the text ##\n",
    "df[\"num_stopwords\"] = df[\" Comment\"].apply(lambda x: len([w for w in str(x).lower().split() if w in eng_stopwords]))\n",
    "\n",
    "\n",
    "## Number of punctuations in the text ##\n",
    "df[\"num_punctuations\"] =df[' Comment'].apply(lambda x: len([c for c in str(x) if c in string.punctuation]) )\n",
    "\n",
    "\n",
    "## Number of title case words in the text ##\n",
    "df[\"num_words_upper\"] = df[\" Comment\"].apply(lambda x: len([w for w in str(x).split() if w.isupper()]))\n",
    "\n",
    "\n",
    "## Number of title case words in the text ##\n",
    "df[\"num_words_title\"] = df[\" Comment\"].apply(lambda x: len([w for w in str(x).split() if w.istitle()]))\n",
    "\n",
    "\n",
    "## Average length of the words in the text ##\n",
    "df[\"mean_word_len\"] = df[\" Comment\"].apply(lambda x: np.mean([len(w) for w in str(x).split()]))\n"
   ]
  },
  {
   "cell_type": "markdown",
   "metadata": {},
   "source": [
    "###### Added Polarity and Subjectivity of comments using Textblob.\n",
    "\n",
    "This is incorporated to understand positivity or negativity demonstrated from the comments and also how objective/subjective was the comment. "
   ]
  },
  {
   "cell_type": "code",
   "execution_count": 240,
   "metadata": {},
   "outputs": [],
   "source": [
    "from textblob import TextBlob\n",
    "df[['polarity', 'subjectivity']] = df[' Comment'].apply(lambda Text: pd.Series(TextBlob(Text).sentiment))"
   ]
  },
  {
   "cell_type": "code",
   "execution_count": 241,
   "metadata": {},
   "outputs": [
    {
     "name": "stdout",
     "output_type": "stream",
     "text": [
      "<class 'pandas.core.frame.DataFrame'>\n",
      "RangeIndex: 999 entries, 0 to 998\n",
      "Data columns (total 17 columns):\n",
      "Reviewer Details         999 non-null object\n",
      " Effectiveness Rating    999 non-null int64\n",
      " Ease_of_Use Rating      999 non-null int64\n",
      " Satisfaction Rating     999 non-null int64\n",
      " Comment                 999 non-null object\n",
      "Age                      999 non-null object\n",
      "Gender                   999 non-null object\n",
      "num_words                999 non-null int64\n",
      "num_unique_words         999 non-null int64\n",
      "num_chars                999 non-null int64\n",
      "num_stopwords            999 non-null int64\n",
      "num_punctuations         999 non-null int64\n",
      "num_words_upper          999 non-null int64\n",
      "num_words_title          999 non-null int64\n",
      "mean_word_len            999 non-null float64\n",
      "polarity                 999 non-null float64\n",
      "subjectivity             999 non-null float64\n",
      "dtypes: float64(3), int64(10), object(4)\n",
      "memory usage: 132.8+ KB\n",
      "None\n"
     ]
    }
   ],
   "source": [
    "ss=df.info()\n",
    "print(ss)"
   ]
  },
  {
   "cell_type": "code",
   "execution_count": 242,
   "metadata": {},
   "outputs": [
    {
     "data": {
      "text/html": [
       "<div>\n",
       "<style scoped>\n",
       "    .dataframe tbody tr th:only-of-type {\n",
       "        vertical-align: middle;\n",
       "    }\n",
       "\n",
       "    .dataframe tbody tr th {\n",
       "        vertical-align: top;\n",
       "    }\n",
       "\n",
       "    .dataframe thead th {\n",
       "        text-align: right;\n",
       "    }\n",
       "</style>\n",
       "<table border=\"1\" class=\"dataframe\">\n",
       "  <thead>\n",
       "    <tr style=\"text-align: right;\">\n",
       "      <th></th>\n",
       "      <th>Reviewer Details</th>\n",
       "      <th>Effectiveness Rating</th>\n",
       "      <th>Ease_of_Use Rating</th>\n",
       "      <th>Satisfaction Rating</th>\n",
       "      <th>Comment</th>\n",
       "      <th>Age</th>\n",
       "      <th>Gender</th>\n",
       "      <th>num_words</th>\n",
       "      <th>num_unique_words</th>\n",
       "      <th>num_chars</th>\n",
       "      <th>num_stopwords</th>\n",
       "      <th>num_punctuations</th>\n",
       "      <th>num_words_upper</th>\n",
       "      <th>num_words_title</th>\n",
       "      <th>mean_word_len</th>\n",
       "      <th>polarity</th>\n",
       "      <th>subjectivity</th>\n",
       "    </tr>\n",
       "  </thead>\n",
       "  <tbody>\n",
       "    <tr>\n",
       "      <th>0</th>\n",
       "      <td>virleo| 55-64 Female  on Treatment for less t...</td>\n",
       "      <td>1</td>\n",
       "      <td>1</td>\n",
       "      <td>1</td>\n",
       "      <td>A few years ago a doctor at an urgent care cli...</td>\n",
       "      <td>55-64</td>\n",
       "      <td>Female</td>\n",
       "      <td>122</td>\n",
       "      <td>94</td>\n",
       "      <td>693</td>\n",
       "      <td>60</td>\n",
       "      <td>14</td>\n",
       "      <td>6</td>\n",
       "      <td>13</td>\n",
       "      <td>4.688525</td>\n",
       "      <td>-0.139583</td>\n",
       "      <td>0.485417</td>\n",
       "    </tr>\n",
       "    <tr>\n",
       "      <th>1</th>\n",
       "      <td>Mtdwnurse1| 45-54 Female  on Treatment for 6 ...</td>\n",
       "      <td>4</td>\n",
       "      <td>4</td>\n",
       "      <td>4</td>\n",
       "      <td>After my neck fusion to my cervical C5|6|7| bo...</td>\n",
       "      <td>45-54</td>\n",
       "      <td>Female</td>\n",
       "      <td>273</td>\n",
       "      <td>166</td>\n",
       "      <td>1480</td>\n",
       "      <td>128</td>\n",
       "      <td>41</td>\n",
       "      <td>7</td>\n",
       "      <td>21</td>\n",
       "      <td>4.421245</td>\n",
       "      <td>0.096087</td>\n",
       "      <td>0.385435</td>\n",
       "    </tr>\n",
       "    <tr>\n",
       "      <th>2</th>\n",
       "      <td>Foots55| 65-74 Female  on Treatment for 1 to ...</td>\n",
       "      <td>3</td>\n",
       "      <td>2</td>\n",
       "      <td>2</td>\n",
       "      <td>Its been ok but had others that worked better</td>\n",
       "      <td>65-74</td>\n",
       "      <td>Female</td>\n",
       "      <td>9</td>\n",
       "      <td>9</td>\n",
       "      <td>46</td>\n",
       "      <td>4</td>\n",
       "      <td>0</td>\n",
       "      <td>0</td>\n",
       "      <td>0</td>\n",
       "      <td>4.222222</td>\n",
       "      <td>0.500000</td>\n",
       "      <td>0.500000</td>\n",
       "    </tr>\n",
       "    <tr>\n",
       "      <th>3</th>\n",
       "      <td>GoneRacin24| 65-74 Female  on Treatment for 1...</td>\n",
       "      <td>1</td>\n",
       "      <td>5</td>\n",
       "      <td>1</td>\n",
       "      <td>Severe neuropathic pain in left leg into my to...</td>\n",
       "      <td>65-74</td>\n",
       "      <td>Female</td>\n",
       "      <td>60</td>\n",
       "      <td>53</td>\n",
       "      <td>297</td>\n",
       "      <td>22</td>\n",
       "      <td>7</td>\n",
       "      <td>2</td>\n",
       "      <td>6</td>\n",
       "      <td>3.950000</td>\n",
       "      <td>-0.500000</td>\n",
       "      <td>0.500000</td>\n",
       "    </tr>\n",
       "    <tr>\n",
       "      <th>4</th>\n",
       "      <td>75 or over Male  on Treatment for less than 1...</td>\n",
       "      <td>2</td>\n",
       "      <td>5</td>\n",
       "      <td>1</td>\n",
       "      <td>Pain relief was minimal. I had almost all the ...</td>\n",
       "      <td>75 or over</td>\n",
       "      <td>Male</td>\n",
       "      <td>23</td>\n",
       "      <td>23</td>\n",
       "      <td>156</td>\n",
       "      <td>7</td>\n",
       "      <td>10</td>\n",
       "      <td>1</td>\n",
       "      <td>3</td>\n",
       "      <td>5.826087</td>\n",
       "      <td>0.108333</td>\n",
       "      <td>0.500000</td>\n",
       "    </tr>\n",
       "  </tbody>\n",
       "</table>\n",
       "</div>"
      ],
      "text/plain": [
       "                                    Reviewer Details   Effectiveness Rating  \\\n",
       "0   virleo| 55-64 Female  on Treatment for less t...                      1   \n",
       "1   Mtdwnurse1| 45-54 Female  on Treatment for 6 ...                      4   \n",
       "2   Foots55| 65-74 Female  on Treatment for 1 to ...                      3   \n",
       "3   GoneRacin24| 65-74 Female  on Treatment for 1...                      1   \n",
       "4   75 or over Male  on Treatment for less than 1...                      2   \n",
       "\n",
       "    Ease_of_Use Rating   Satisfaction Rating  \\\n",
       "0                    1                     1   \n",
       "1                    4                     4   \n",
       "2                    2                     2   \n",
       "3                    5                     1   \n",
       "4                    5                     1   \n",
       "\n",
       "                                             Comment         Age  Gender  \\\n",
       "0  A few years ago a doctor at an urgent care cli...       55-64  Female   \n",
       "1  After my neck fusion to my cervical C5|6|7| bo...       45-54  Female   \n",
       "2     Its been ok but had others that worked better       65-74  Female   \n",
       "3  Severe neuropathic pain in left leg into my to...       65-74  Female   \n",
       "4  Pain relief was minimal. I had almost all the ...  75 or over    Male   \n",
       "\n",
       "   num_words  num_unique_words  num_chars  num_stopwords  num_punctuations  \\\n",
       "0        122                94        693             60                14   \n",
       "1        273               166       1480            128                41   \n",
       "2          9                 9         46              4                 0   \n",
       "3         60                53        297             22                 7   \n",
       "4         23                23        156              7                10   \n",
       "\n",
       "   num_words_upper  num_words_title  mean_word_len  polarity  subjectivity  \n",
       "0                6               13       4.688525 -0.139583      0.485417  \n",
       "1                7               21       4.421245  0.096087      0.385435  \n",
       "2                0                0       4.222222  0.500000      0.500000  \n",
       "3                2                6       3.950000 -0.500000      0.500000  \n",
       "4                1                3       5.826087  0.108333      0.500000  "
      ]
     },
     "execution_count": 242,
     "metadata": {},
     "output_type": "execute_result"
    }
   ],
   "source": [
    "df.head()"
   ]
  },
  {
   "cell_type": "markdown",
   "metadata": {},
   "source": [
    "###### Correlation plot\n",
    "Our prediction parameter was Satisfaction Rating , hence from the below correlation plot we can identify Satisfaction Rating and Effectiveness Rating to have high correlation of about 86% ."
   ]
  },
  {
   "cell_type": "code",
   "execution_count": 243,
   "metadata": {
    "scrolled": false
   },
   "outputs": [
    {
     "data": {
      "image/png": "[encoded data removed]",
      "text/plain": [
       "<matplotlib.figure.Figure at 0x1a2e60ee48>"
      ]
     },
     "metadata": {},
     "output_type": "display_data"
    }
   ],
   "source": [
    "import seaborn as sns\n",
    "import matplotlib.pyplot as plt\n",
    " \n",
    "def heatMap(df):\n",
    "    \"\"\"\n",
    "    Params: df - DataFrame of our Abalone data\n",
    "    Return: Generates a heatmap plot\n",
    "    \"\"\"#Create Correlation df\n",
    "    corr = df.corr()\n",
    "    #Plot figsize\n",
    "    fig, ax = plt.subplots(figsize=(10, 10))\n",
    "    #Generate Color Map, red & blue\n",
    "    colormap = sns.diverging_palette(220, 10, as_cmap=True)\n",
    "    #Generate Heat Map, allow annotations and place floats in map\n",
    "    sns.heatmap(corr, cmap=colormap, annot=True, fmt=\".2f\")\n",
    "    #Apply xticks\n",
    "    plt.xticks(range(len(corr.columns)), corr.columns);\n",
    "    #Apply yticks\n",
    "    plt.yticks(range(len(corr.columns)), corr.columns)\n",
    "    #show plot\n",
    "    plt.show()\n",
    "\n",
    "heatMap(df)"
   ]
  },
  {
   "cell_type": "markdown",
   "metadata": {},
   "source": [
    " "
   ]
  },
  {
   "cell_type": "markdown",
   "metadata": {},
   "source": [
    "### Data Pre-processing\n",
    "Using LabelEncoder we converted the string data into numerical values in order to be able to use for classification in further analysis."
   ]
  },
  {
   "cell_type": "code",
   "execution_count": 244,
   "metadata": {},
   "outputs": [],
   "source": [
    "from sklearn.preprocessing import LabelEncoder\n",
    "encoder = LabelEncoder()\n",
    "df['Age'] = encoder.fit_transform(df['Age'])\n",
    "df['Gender'] = encoder.fit_transform(df['Gender'])"
   ]
  },
  {
   "cell_type": "code",
   "execution_count": 245,
   "metadata": {},
   "outputs": [],
   "source": [
    "cols_to_drop = ['Reviewer Details', ' Comment']\n",
    "df = df.drop(cols_to_drop, axis = 1)\n",
    "X = df.drop(' Satisfaction Rating', axis = 1)\n",
    "y = df[' Satisfaction Rating']\n"
   ]
  },
  {
   "cell_type": "markdown",
   "metadata": {},
   "source": [
    "### Machine Learning Algorithm"
   ]
  },
  {
   "cell_type": "code",
   "execution_count": 246,
   "metadata": {},
   "outputs": [],
   "source": [
    "from sklearn import ensemble, metrics, model_selection\n",
    "from sklearn.naive_bayes import GaussianNB\n",
    "from sklearn.linear_model import LogisticRegression\n",
    "from sklearn.svm import SVC\n",
    "from sklearn.ensemble import RandomForestClassifier\n",
    "from sklearn.cross_validation import KFold, cross_val_score\n",
    "from sklearn.neural_network import MLPClassifier\n",
    "from sklearn.neighbors import KNeighborsClassifier\n",
    "from sklearn.metrics import confusion_matrix\n",
    "#k_fold = KFold(len(X), n_folds=10, shuffle=True, random_state=0)\n",
    "#print(np.mean(cross_val_score(clf, X, y, cv=k_fold, n_jobs=-1)))\n"
   ]
  },
  {
   "cell_type": "markdown",
   "metadata": {},
   "source": [
    "Train Test Split"
   ]
  },
  {
   "cell_type": "code",
   "execution_count": 247,
   "metadata": {},
   "outputs": [],
   "source": [
    "X_train, X_test, y_train, y_test = train_test_split(X, y, test_size = 0.30, random_state = 42)"
   ]
  },
  {
   "cell_type": "markdown",
   "metadata": {},
   "source": [
    "###### Gaussian Naive Bayes Algorithm\n",
    "\n",
    "Satisfaction rating was predicted with respect to features extracted in the dataset. After fitting the algorithm, we achieved model accuracy of 59%.\n",
    "\n",
    "In confusion matrix, the diagonal items represent true-positive values whereas everything else either represents true-negative or false-positive values. This corresponds to error of 41%."
   ]
  },
  {
   "cell_type": "code",
   "execution_count": 248,
   "metadata": {},
   "outputs": [
    {
     "data": {
      "text/plain": [
       "GaussianNB(priors=None)"
      ]
     },
     "execution_count": 248,
     "metadata": {},
     "output_type": "execute_result"
    },
    {
     "data": {
      "text/plain": [
       "array([[89,  2,  3,  4,  1],\n",
       "       [22,  0,  5,  3,  1],\n",
       "       [13,  2,  4, 11,  8],\n",
       "       [ 3,  0,  9, 19, 23],\n",
       "       [ 3,  0,  2,  8, 65]])"
      ]
     },
     "execution_count": 248,
     "metadata": {},
     "output_type": "execute_result"
    },
    {
     "data": {
      "text/plain": [
       "0.59"
      ]
     },
     "execution_count": 248,
     "metadata": {},
     "output_type": "execute_result"
    }
   ],
   "source": [
    "clf = GaussianNB()\n",
    "clf.fit(X_train, y_train)\n",
    "y_pred = clf.predict(X_test)\n",
    "nb_score=clf.score(X_test, y_test)\n",
    "y_pred_clf = clf.predict(X_test)\n",
    "confusion_matrix(y_test,y_pred_clf)\n",
    "nb_score"
   ]
  },
  {
   "cell_type": "markdown",
   "metadata": {},
   "source": [
    "###### Logistic Regression Algorithm\n",
    "\n",
    "Satisfaction rating was predicted with respect to features extracted in the dataset. After fitting the algorithm, we achieved model accuracy of 60.6%.\n",
    "\n",
    "In confusion matrix, the diagonal items represent true-positive values whereas everything else either represents true-negative or false-positive values. This corresponds to error of 39.4%."
   ]
  },
  {
   "cell_type": "code",
   "execution_count": 249,
   "metadata": {},
   "outputs": [
    {
     "data": {
      "text/plain": [
       "LogisticRegression(C=1.0, class_weight=None, dual=False, fit_intercept=True,\n",
       "          intercept_scaling=1, max_iter=100, multi_class='ovr', n_jobs=1,\n",
       "          penalty='l2', random_state=None, solver='liblinear', tol=0.0001,\n",
       "          verbose=0, warm_start=False)"
      ]
     },
     "execution_count": 249,
     "metadata": {},
     "output_type": "execute_result"
    },
    {
     "data": {
      "text/plain": [
       "array([[91,  1,  2,  4,  1],\n",
       "       [20,  4,  1,  3,  3],\n",
       "       [16,  0,  3,  5, 14],\n",
       "       [ 7,  0,  2,  9, 36],\n",
       "       [ 0,  1,  0,  2, 75]])"
      ]
     },
     "execution_count": 249,
     "metadata": {},
     "output_type": "execute_result"
    },
    {
     "data": {
      "text/plain": [
       "0.6066666666666667"
      ]
     },
     "execution_count": 249,
     "metadata": {},
     "output_type": "execute_result"
    }
   ],
   "source": [
    "lr = LogisticRegression()\n",
    "lr.fit(X_train, y_train)\n",
    "#y_lr_pred = lr.predict(y_test)\n",
    "lr_score=lr.score(X_test, y_test)\n",
    "y_pred_lr = lr.predict(X_test)\n",
    "confusion_matrix(y_test,y_pred_lr)\n",
    "lr_score"
   ]
  },
  {
   "cell_type": "markdown",
   "metadata": {},
   "source": [
    "###### Support Vector Machine Classifier Algorithm\n",
    "\n",
    "Satisfaction rating was predicted with respect to features extracted in the dataset. After fitting the algorithm, we achieved model accuracy of 43%.\n",
    "\n",
    "In confusion matrix, the diagonal items represent true-positive values whereas everything else either represents true-negative or false-positive values. This corresponds to error of 57%."
   ]
  },
  {
   "cell_type": "code",
   "execution_count": 250,
   "metadata": {},
   "outputs": [
    {
     "data": {
      "text/plain": [
       "SVC(C=1.0, cache_size=200, class_weight=None, coef0=0.0,\n",
       "  decision_function_shape='ovr', degree=3, gamma=0.001, kernel='rbf',\n",
       "  max_iter=-1, probability=False, random_state=None, shrinking=True,\n",
       "  tol=0.001, verbose=False)"
      ]
     },
     "execution_count": 250,
     "metadata": {},
     "output_type": "execute_result"
    },
    {
     "data": {
      "text/plain": [
       "array([[74,  0,  0,  3, 22],\n",
       "       [20,  0,  2,  1,  8],\n",
       "       [23,  0,  0,  2, 13],\n",
       "       [20,  0,  0,  8, 26],\n",
       "       [23,  0,  0,  8, 47]])"
      ]
     },
     "execution_count": 250,
     "metadata": {},
     "output_type": "execute_result"
    },
    {
     "data": {
      "text/plain": [
       "0.43"
      ]
     },
     "execution_count": 250,
     "metadata": {},
     "output_type": "execute_result"
    }
   ],
   "source": [
    "svm = SVC(gamma=0.001, C=1.0)\n",
    "svm.fit(X_train,y_train)\n",
    "svm_score=svm.score(X_test,y_test)\n",
    "y_pred_svm = svm.predict(X_test)\n",
    "confusion_matrix(y_test,y_pred_svm)\n",
    "svm_score"
   ]
  },
  {
   "cell_type": "markdown",
   "metadata": {},
   "source": [
    "###### Random Forest Algorithm\n",
    "\n",
    "Satisfaction rating was predicted with respect to features extracted in the dataset. After fitting the algorithm, we achieved model accuracy of 61.6%.\n",
    "\n",
    "In confusion matrix, the diagonal items represent true-positive values whereas everything else either represents true-negative or false-positive values. This corresponds to error of 38.4%."
   ]
  },
  {
   "cell_type": "code",
   "execution_count": 262,
   "metadata": {},
   "outputs": [
    {
     "data": {
      "text/plain": [
       "RandomForestClassifier(bootstrap=True, class_weight=None, criterion='gini',\n",
       "            max_depth=None, max_features='auto', max_leaf_nodes=None,\n",
       "            min_impurity_decrease=0.0, min_impurity_split=None,\n",
       "            min_samples_leaf=1, min_samples_split=2,\n",
       "            min_weight_fraction_leaf=0.0, n_estimators=10, n_jobs=1,\n",
       "            oob_score=False, random_state=None, verbose=0,\n",
       "            warm_start=False)"
      ]
     },
     "execution_count": 262,
     "metadata": {},
     "output_type": "execute_result"
    },
    {
     "data": {
      "text/plain": [
       "array([[86,  1,  7,  5,  0],\n",
       "       [18,  2,  8,  2,  1],\n",
       "       [10,  5, 13,  8,  2],\n",
       "       [ 1,  0, 12, 28, 13],\n",
       "       [ 1,  0,  2, 19, 56]])"
      ]
     },
     "execution_count": 262,
     "metadata": {},
     "output_type": "execute_result"
    },
    {
     "data": {
      "text/plain": [
       "0.6166666666666667"
      ]
     },
     "execution_count": 262,
     "metadata": {},
     "output_type": "execute_result"
    }
   ],
   "source": [
    "rf = RandomForestClassifier()\n",
    "rf.fit(X_train,y_train)\n",
    "rf_score=rf.score(X_test,y_test)\n",
    "y_pred_rf = rf.predict(X_test)\n",
    "confusion_matrix(y_test,y_pred_rf)\n",
    "rf_score"
   ]
  },
  {
   "cell_type": "markdown",
   "metadata": {},
   "source": [
    "###### Neural Network Algorithm\n",
    "\n",
    "Satisfaction rating was predicted with respect to features extracted in the dataset. After fitting the algorithm, we achieved model accuracy of 59.3%.\n",
    "\n",
    "In confusion matrix, the diagonal items represent true-positive values whereas everything else either represents true-negative or false-positive values. This corresponds to error of 40.7%."
   ]
  },
  {
   "cell_type": "code",
   "execution_count": 252,
   "metadata": {},
   "outputs": [
    {
     "data": {
      "text/plain": [
       "MLPClassifier(activation='relu', alpha=1e-05, batch_size='auto', beta_1=0.9,\n",
       "       beta_2=0.999, early_stopping=False, epsilon=1e-08,\n",
       "       hidden_layer_sizes=(50, 40, 50), learning_rate='constant',\n",
       "       learning_rate_init=0.001, max_iter=200, momentum=0.9,\n",
       "       nesterovs_momentum=True, power_t=0.5, random_state=1, shuffle=True,\n",
       "       solver='lbfgs', tol=0.0001, validation_fraction=0.1, verbose=False,\n",
       "       warm_start=False)"
      ]
     },
     "execution_count": 252,
     "metadata": {},
     "output_type": "execute_result"
    },
    {
     "data": {
      "text/plain": [
       "array([[89,  0,  2,  4,  4],\n",
       "       [21,  1,  1,  4,  4],\n",
       "       [13,  0,  2,  9, 14],\n",
       "       [ 4,  2,  5, 13, 30],\n",
       "       [ 1,  0,  0,  4, 73]])"
      ]
     },
     "execution_count": 252,
     "metadata": {},
     "output_type": "execute_result"
    },
    {
     "data": {
      "text/plain": [
       "0.5933333333333334"
      ]
     },
     "execution_count": 252,
     "metadata": {},
     "output_type": "execute_result"
    }
   ],
   "source": [
    "nn = MLPClassifier(solver='lbfgs', alpha=1e-5, hidden_layer_sizes=(50,40,50), random_state=1)\n",
    "nn.fit(X_train,y_train)\n",
    "nn_score=nn.score(X_test,y_test)\n",
    "y_pred_nn = nn.predict(X_test)\n",
    "confusion_matrix(y_test,y_pred_nn)\n",
    "nn_score"
   ]
  },
  {
   "cell_type": "markdown",
   "metadata": {},
   "source": [
    "###### Parameter Tuning using GridSearch\n",
    "We used GridSearch on Neural Network algorithm to get best parameters with 2 fold cross validation. It yielded us a average precision of 50% , although no significant performance improvement was observed."
   ]
  },
  {
   "cell_type": "code",
   "execution_count": 253,
   "metadata": {},
   "outputs": [],
   "source": [
    "parameter_space = {\n",
    "    'hidden_layer_sizes': [(50,50,50), (50,100,50), (100,)],\n",
    "    'activation': ['tanh', 'relu'],\n",
    "    'solver': ['sgd', 'adam'],\n",
    "    'alpha': [0.0001, 0.05],\n",
    "    'learning_rate': ['constant','adaptive'],\n",
    "}"
   ]
  },
  {
   "cell_type": "code",
   "execution_count": 254,
   "metadata": {},
   "outputs": [],
   "source": [
    "from sklearn.model_selection import GridSearchCV\n"
   ]
  },
  {
   "cell_type": "code",
   "execution_count": 255,
   "metadata": {},
   "outputs": [
    {
     "name": "stderr",
     "output_type": "stream",
     "text": [
      "/anaconda3/lib/python3.6/site-packages/sklearn/neural_network/multilayer_perceptron.py:564: ConvergenceWarning: Stochastic Optimizer: Maximum iterations (200) reached and the optimization hasn't converged yet.\n",
      "  % self.max_iter, ConvergenceWarning)\n",
      "/anaconda3/lib/python3.6/site-packages/sklearn/neural_network/multilayer_perceptron.py:564: ConvergenceWarning: Stochastic Optimizer: Maximum iterations (200) reached and the optimization hasn't converged yet.\n",
      "  % self.max_iter, ConvergenceWarning)\n",
      "/anaconda3/lib/python3.6/site-packages/sklearn/neural_network/multilayer_perceptron.py:564: ConvergenceWarning: Stochastic Optimizer: Maximum iterations (200) reached and the optimization hasn't converged yet.\n",
      "  % self.max_iter, ConvergenceWarning)\n",
      "/anaconda3/lib/python3.6/site-packages/sklearn/neural_network/multilayer_perceptron.py:564: ConvergenceWarning: Stochastic Optimizer: Maximum iterations (200) reached and the optimization hasn't converged yet.\n",
      "  % self.max_iter, ConvergenceWarning)\n",
      "/anaconda3/lib/python3.6/site-packages/sklearn/neural_network/multilayer_perceptron.py:564: ConvergenceWarning: Stochastic Optimizer: Maximum iterations (200) reached and the optimization hasn't converged yet.\n",
      "  % self.max_iter, ConvergenceWarning)\n",
      "/anaconda3/lib/python3.6/site-packages/sklearn/neural_network/multilayer_perceptron.py:564: ConvergenceWarning: Stochastic Optimizer: Maximum iterations (200) reached and the optimization hasn't converged yet.\n",
      "  % self.max_iter, ConvergenceWarning)\n",
      "/anaconda3/lib/python3.6/site-packages/sklearn/neural_network/multilayer_perceptron.py:564: ConvergenceWarning: Stochastic Optimizer: Maximum iterations (200) reached and the optimization hasn't converged yet.\n",
      "  % self.max_iter, ConvergenceWarning)\n",
      "/anaconda3/lib/python3.6/site-packages/sklearn/neural_network/multilayer_perceptron.py:564: ConvergenceWarning: Stochastic Optimizer: Maximum iterations (200) reached and the optimization hasn't converged yet.\n",
      "  % self.max_iter, ConvergenceWarning)\n"
     ]
    },
    {
     "data": {
      "text/plain": [
       "GridSearchCV(cv=2, error_score='raise',\n",
       "       estimator=MLPClassifier(activation='relu', alpha=1e-05, batch_size='auto', beta_1=0.9,\n",
       "       beta_2=0.999, early_stopping=False, epsilon=1e-08,\n",
       "       hidden_layer_sizes=(50, 40, 50), learning_rate='constant',\n",
       "       learning_rate_init=0.001, max_iter=200, momentum=0.9,\n",
       "       nesterovs_momentum=True, power_t=0.5, random_state=1, shuffle=True,\n",
       "       solver='lbfgs', tol=0.0001, validation_fraction=0.1, verbose=False,\n",
       "       warm_start=False),\n",
       "       fit_params=None, iid=True, n_jobs=-1,\n",
       "       param_grid={'hidden_layer_sizes': [(50, 50, 50), (50, 100, 50), (100,)], 'activation': ['tanh', 'relu'], 'solver': ['sgd', 'adam'], 'alpha': [0.0001, 0.05], 'learning_rate': ['constant', 'adaptive']},\n",
       "       pre_dispatch='2*n_jobs', refit=True, return_train_score='warn',\n",
       "       scoring=None, verbose=0)"
      ]
     },
     "execution_count": 255,
     "metadata": {},
     "output_type": "execute_result"
    }
   ],
   "source": [
    "clf2 = GridSearchCV(nn, parameter_space, n_jobs=-1, cv=2)\n",
    "clf2.fit(X_train,y_train)"
   ]
  },
  {
   "cell_type": "code",
   "execution_count": 256,
   "metadata": {},
   "outputs": [
    {
     "name": "stdout",
     "output_type": "stream",
     "text": [
      "Best parameters found:\n",
      " {'activation': 'tanh', 'alpha': 0.0001, 'hidden_layer_sizes': (50, 100, 50), 'learning_rate': 'constant', 'solver': 'adam'}\n"
     ]
    }
   ],
   "source": [
    "print('Best parameters found:\\n', clf2.best_params_)"
   ]
  },
  {
   "cell_type": "code",
   "execution_count": 257,
   "metadata": {},
   "outputs": [
    {
     "name": "stdout",
     "output_type": "stream",
     "text": [
      "0.332 (+/-0.045) for {'activation': 'tanh', 'alpha': 0.0001, 'hidden_layer_sizes': (50, 50, 50), 'learning_rate': 'constant', 'solver': 'sgd'}\n",
      "0.532 (+/-0.015) for {'activation': 'tanh', 'alpha': 0.0001, 'hidden_layer_sizes': (50, 50, 50), 'learning_rate': 'constant', 'solver': 'adam'}\n",
      "0.332 (+/-0.051) for {'activation': 'tanh', 'alpha': 0.0001, 'hidden_layer_sizes': (50, 50, 50), 'learning_rate': 'adaptive', 'solver': 'sgd'}\n",
      "0.532 (+/-0.015) for {'activation': 'tanh', 'alpha': 0.0001, 'hidden_layer_sizes': (50, 50, 50), 'learning_rate': 'adaptive', 'solver': 'adam'}\n",
      "0.365 (+/-0.025) for {'activation': 'tanh', 'alpha': 0.0001, 'hidden_layer_sizes': (50, 100, 50), 'learning_rate': 'constant', 'solver': 'sgd'}\n",
      "0.551 (+/-0.005) for {'activation': 'tanh', 'alpha': 0.0001, 'hidden_layer_sizes': (50, 100, 50), 'learning_rate': 'constant', 'solver': 'adam'}\n",
      "0.383 (+/-0.017) for {'activation': 'tanh', 'alpha': 0.0001, 'hidden_layer_sizes': (50, 100, 50), 'learning_rate': 'adaptive', 'solver': 'sgd'}\n",
      "0.551 (+/-0.005) for {'activation': 'tanh', 'alpha': 0.0001, 'hidden_layer_sizes': (50, 100, 50), 'learning_rate': 'adaptive', 'solver': 'adam'}\n",
      "0.328 (+/-0.082) for {'activation': 'tanh', 'alpha': 0.0001, 'hidden_layer_sizes': (100,), 'learning_rate': 'constant', 'solver': 'sgd'}\n",
      "0.446 (+/-0.247) for {'activation': 'tanh', 'alpha': 0.0001, 'hidden_layer_sizes': (100,), 'learning_rate': 'constant', 'solver': 'adam'}\n",
      "0.363 (+/-0.006) for {'activation': 'tanh', 'alpha': 0.0001, 'hidden_layer_sizes': (100,), 'learning_rate': 'adaptive', 'solver': 'sgd'}\n",
      "0.446 (+/-0.247) for {'activation': 'tanh', 'alpha': 0.0001, 'hidden_layer_sizes': (100,), 'learning_rate': 'adaptive', 'solver': 'adam'}\n",
      "0.332 (+/-0.045) for {'activation': 'tanh', 'alpha': 0.05, 'hidden_layer_sizes': (50, 50, 50), 'learning_rate': 'constant', 'solver': 'sgd'}\n",
      "0.535 (+/-0.019) for {'activation': 'tanh', 'alpha': 0.05, 'hidden_layer_sizes': (50, 50, 50), 'learning_rate': 'constant', 'solver': 'adam'}\n",
      "0.332 (+/-0.051) for {'activation': 'tanh', 'alpha': 0.05, 'hidden_layer_sizes': (50, 50, 50), 'learning_rate': 'adaptive', 'solver': 'sgd'}\n",
      "0.535 (+/-0.019) for {'activation': 'tanh', 'alpha': 0.05, 'hidden_layer_sizes': (50, 50, 50), 'learning_rate': 'adaptive', 'solver': 'adam'}\n",
      "0.363 (+/-0.022) for {'activation': 'tanh', 'alpha': 0.05, 'hidden_layer_sizes': (50, 100, 50), 'learning_rate': 'constant', 'solver': 'sgd'}\n",
      "0.551 (+/-0.011) for {'activation': 'tanh', 'alpha': 0.05, 'hidden_layer_sizes': (50, 100, 50), 'learning_rate': 'constant', 'solver': 'adam'}\n",
      "0.385 (+/-0.020) for {'activation': 'tanh', 'alpha': 0.05, 'hidden_layer_sizes': (50, 100, 50), 'learning_rate': 'adaptive', 'solver': 'sgd'}\n",
      "0.551 (+/-0.011) for {'activation': 'tanh', 'alpha': 0.05, 'hidden_layer_sizes': (50, 100, 50), 'learning_rate': 'adaptive', 'solver': 'adam'}\n",
      "0.328 (+/-0.082) for {'activation': 'tanh', 'alpha': 0.05, 'hidden_layer_sizes': (100,), 'learning_rate': 'constant', 'solver': 'sgd'}\n",
      "0.456 (+/-0.267) for {'activation': 'tanh', 'alpha': 0.05, 'hidden_layer_sizes': (100,), 'learning_rate': 'constant', 'solver': 'adam'}\n",
      "0.363 (+/-0.006) for {'activation': 'tanh', 'alpha': 0.05, 'hidden_layer_sizes': (100,), 'learning_rate': 'adaptive', 'solver': 'sgd'}\n",
      "0.456 (+/-0.267) for {'activation': 'tanh', 'alpha': 0.05, 'hidden_layer_sizes': (100,), 'learning_rate': 'adaptive', 'solver': 'adam'}\n",
      "0.229 (+/-0.071) for {'activation': 'relu', 'alpha': 0.0001, 'hidden_layer_sizes': (50, 50, 50), 'learning_rate': 'constant', 'solver': 'sgd'}\n",
      "0.233 (+/-0.006) for {'activation': 'relu', 'alpha': 0.0001, 'hidden_layer_sizes': (50, 50, 50), 'learning_rate': 'constant', 'solver': 'adam'}\n",
      "0.309 (+/-0.056) for {'activation': 'relu', 'alpha': 0.0001, 'hidden_layer_sizes': (50, 50, 50), 'learning_rate': 'adaptive', 'solver': 'sgd'}\n",
      "0.233 (+/-0.006) for {'activation': 'relu', 'alpha': 0.0001, 'hidden_layer_sizes': (50, 50, 50), 'learning_rate': 'adaptive', 'solver': 'adam'}\n",
      "0.383 (+/-0.035) for {'activation': 'relu', 'alpha': 0.0001, 'hidden_layer_sizes': (50, 100, 50), 'learning_rate': 'constant', 'solver': 'sgd'}\n",
      "0.338 (+/-0.092) for {'activation': 'relu', 'alpha': 0.0001, 'hidden_layer_sizes': (50, 100, 50), 'learning_rate': 'constant', 'solver': 'adam'}\n",
      "0.365 (+/-0.008) for {'activation': 'relu', 'alpha': 0.0001, 'hidden_layer_sizes': (50, 100, 50), 'learning_rate': 'adaptive', 'solver': 'sgd'}\n",
      "0.338 (+/-0.092) for {'activation': 'relu', 'alpha': 0.0001, 'hidden_layer_sizes': (50, 100, 50), 'learning_rate': 'adaptive', 'solver': 'adam'}\n",
      "0.210 (+/-0.218) for {'activation': 'relu', 'alpha': 0.0001, 'hidden_layer_sizes': (100,), 'learning_rate': 'constant', 'solver': 'sgd'}\n",
      "0.225 (+/-0.000) for {'activation': 'relu', 'alpha': 0.0001, 'hidden_layer_sizes': (100,), 'learning_rate': 'constant', 'solver': 'adam'}\n",
      "0.212 (+/-0.215) for {'activation': 'relu', 'alpha': 0.0001, 'hidden_layer_sizes': (100,), 'learning_rate': 'adaptive', 'solver': 'sgd'}\n",
      "0.225 (+/-0.000) for {'activation': 'relu', 'alpha': 0.0001, 'hidden_layer_sizes': (100,), 'learning_rate': 'adaptive', 'solver': 'adam'}\n",
      "0.232 (+/-0.077) for {'activation': 'relu', 'alpha': 0.05, 'hidden_layer_sizes': (50, 50, 50), 'learning_rate': 'constant', 'solver': 'sgd'}\n",
      "0.235 (+/-0.009) for {'activation': 'relu', 'alpha': 0.05, 'hidden_layer_sizes': (50, 50, 50), 'learning_rate': 'constant', 'solver': 'adam'}\n",
      "0.308 (+/-0.059) for {'activation': 'relu', 'alpha': 0.05, 'hidden_layer_sizes': (50, 50, 50), 'learning_rate': 'adaptive', 'solver': 'sgd'}\n",
      "0.235 (+/-0.009) for {'activation': 'relu', 'alpha': 0.05, 'hidden_layer_sizes': (50, 50, 50), 'learning_rate': 'adaptive', 'solver': 'adam'}\n",
      "0.365 (+/-0.026) for {'activation': 'relu', 'alpha': 0.05, 'hidden_layer_sizes': (50, 100, 50), 'learning_rate': 'constant', 'solver': 'sgd'}\n",
      "0.342 (+/-0.101) for {'activation': 'relu', 'alpha': 0.05, 'hidden_layer_sizes': (50, 100, 50), 'learning_rate': 'constant', 'solver': 'adam'}\n",
      "0.359 (+/-0.025) for {'activation': 'relu', 'alpha': 0.05, 'hidden_layer_sizes': (50, 100, 50), 'learning_rate': 'adaptive', 'solver': 'sgd'}\n",
      "0.342 (+/-0.101) for {'activation': 'relu', 'alpha': 0.05, 'hidden_layer_sizes': (50, 100, 50), 'learning_rate': 'adaptive', 'solver': 'adam'}\n",
      "0.210 (+/-0.218) for {'activation': 'relu', 'alpha': 0.05, 'hidden_layer_sizes': (100,), 'learning_rate': 'constant', 'solver': 'sgd'}\n",
      "0.225 (+/-0.000) for {'activation': 'relu', 'alpha': 0.05, 'hidden_layer_sizes': (100,), 'learning_rate': 'constant', 'solver': 'adam'}\n",
      "0.212 (+/-0.215) for {'activation': 'relu', 'alpha': 0.05, 'hidden_layer_sizes': (100,), 'learning_rate': 'adaptive', 'solver': 'sgd'}\n",
      "0.225 (+/-0.000) for {'activation': 'relu', 'alpha': 0.05, 'hidden_layer_sizes': (100,), 'learning_rate': 'adaptive', 'solver': 'adam'}\n"
     ]
    }
   ],
   "source": [
    "means = clf2.cv_results_['mean_test_score']\n",
    "stds = clf2.cv_results_['std_test_score']\n",
    "for mean, std, params in zip(means, stds, clf2.cv_results_['params']):\n",
    "    print(\"%0.3f (+/-%0.03f) for %r\" % (mean, std * 2, params))"
   ]
  },
  {
   "cell_type": "code",
   "execution_count": 258,
   "metadata": {},
   "outputs": [],
   "source": [
    "y_true, y_pred = y_test , clf.predict(X_test)\n"
   ]
  },
  {
   "cell_type": "code",
   "execution_count": 259,
   "metadata": {},
   "outputs": [
    {
     "name": "stdout",
     "output_type": "stream",
     "text": [
      "Results on the test set:\n",
      "             precision    recall  f1-score   support\n",
      "\n",
      "          1       0.68      0.90      0.78        99\n",
      "          2       0.00      0.00      0.00        31\n",
      "          3       0.17      0.11      0.13        38\n",
      "          4       0.42      0.35      0.38        54\n",
      "          5       0.66      0.83      0.74        78\n",
      "\n",
      "avg / total       0.50      0.59      0.53       300\n",
      "\n"
     ]
    }
   ],
   "source": [
    "from sklearn.metrics import classification_report\n",
    "print('Results on the test set:')\n",
    "print(classification_report(y_true, y_pred))"
   ]
  },
  {
   "cell_type": "markdown",
   "metadata": {},
   "source": [
    "###### K-Nearest Neighbors Algorithm\n",
    "\n",
    "Satisfaction rating was predicted with respect to features extracted in the dataset. After fitting the algorithm, we achieved model accuracy of 40%.\n",
    "\n",
    "In confusion matrix, the diagonal items represent true-positive values whereas everything else either represents true-negative or false-positive values. This corresponds to error of 60%."
   ]
  },
  {
   "cell_type": "code",
   "execution_count": 260,
   "metadata": {},
   "outputs": [
    {
     "data": {
      "text/plain": [
       "KNeighborsClassifier(algorithm='auto', leaf_size=30, metric='minkowski',\n",
       "           metric_params=None, n_jobs=1, n_neighbors=4, p=2,\n",
       "           weights='uniform')"
      ]
     },
     "execution_count": 260,
     "metadata": {},
     "output_type": "execute_result"
    },
    {
     "data": {
      "text/plain": [
       "array([[69,  4,  3,  6, 17],\n",
       "       [11,  1,  3,  5, 11],\n",
       "       [17,  3,  2,  6, 10],\n",
       "       [18,  3,  4, 16, 13],\n",
       "       [18,  5,  3, 20, 32]])"
      ]
     },
     "execution_count": 260,
     "metadata": {},
     "output_type": "execute_result"
    },
    {
     "data": {
      "text/plain": [
       "0.4"
      ]
     },
     "execution_count": 260,
     "metadata": {},
     "output_type": "execute_result"
    }
   ],
   "source": [
    "knn = KNeighborsClassifier(n_neighbors=4)\n",
    "knn.fit(X_train,y_train)\n",
    "knn_score=knn.score(X_test,y_test)\n",
    "y_pred_knn = knn.predict(X_test)\n",
    "confusion_matrix(y_test,y_pred_knn)\n",
    "knn_score"
   ]
  },
  {
   "cell_type": "markdown",
   "metadata": {},
   "source": [
    " "
   ]
  },
  {
   "cell_type": "markdown",
   "metadata": {},
   "source": [
    "###### Conclusion\n",
    "Random Forest algorithm aligns with the data and proved to be a better classifier. We used Satisfaction rating as our decision variable and other columns as independent variables which were used to predict the decision variable.\n",
    "\n"
   ]
  },
  {
   "cell_type": "code",
   "execution_count": 263,
   "metadata": {},
   "outputs": [
    {
     "data": {
      "text/plain": [
       "<matplotlib.figure.Figure at 0x1a226b9978>"
      ]
     },
     "execution_count": 263,
     "metadata": {},
     "output_type": "execute_result"
    },
    {
     "data": {
      "text/plain": [
       "<matplotlib.axes._subplots.AxesSubplot at 0x1a22526eb8>"
      ]
     },
     "execution_count": 263,
     "metadata": {},
     "output_type": "execute_result"
    },
    {
     "data": {
      "image/png": "[encoded data removed]",
      "text/plain": [
       "<matplotlib.figure.Figure at 0x1a226b9978>"
      ]
     },
     "metadata": {},
     "output_type": "display_data"
    }
   ],
   "source": [
    "y = (knn_score, nn_score, nb_score, svm_score, rf_score, lr_score)\n",
    "x = ('KNN', 'Neural Network', 'Naive Bayes', 'SVM', 'Random Forest', 'Logistic Regression')\n",
    "data = pd.DataFrame({'model':x,'score':y})\n",
    "sorted_d=data.sort_values(by=['score'])\n",
    "\n",
    "plt.figure(figsize=(12,8))\n",
    "sns.barplot(x=sorted_d.model, y=sorted_d.score)"
   ]
  },
  {
   "cell_type": "markdown",
   "metadata": {},
   "source": [
    "### Sentiment Analysis\n",
    "Using the textblob library to calculate the polarity and sentiment of the reviews from the sample. Here we just combine the results to get some metrics which help us determine the conclusion."
   ]
  },
  {
   "cell_type": "code",
   "execution_count": 264,
   "metadata": {},
   "outputs": [],
   "source": [
    "df2= pd.read_csv(\"/Users/grv/Downloads/sample_for_all.csv\")"
   ]
  },
  {
   "cell_type": "code",
   "execution_count": 265,
   "metadata": {},
   "outputs": [
    {
     "data": {
      "text/plain": [
       "list"
      ]
     },
     "execution_count": 265,
     "metadata": {},
     "output_type": "execute_result"
    }
   ],
   "source": [
    "kk = df2[' Comment']\n",
    "kk = kk.tolist()\n",
    "type(kk)"
   ]
  },
  {
   "cell_type": "code",
   "execution_count": 266,
   "metadata": {},
   "outputs": [],
   "source": [
    "bloblist = []\n",
    "for row in kk:\n",
    "    blob = TextBlob(row)\n",
    "    bloblist.append((row,blob.sentiment.polarity, blob.sentiment.subjectivity))"
   ]
  },
  {
   "cell_type": "code",
   "execution_count": 267,
   "metadata": {},
   "outputs": [
    {
     "data": {
      "text/html": [
       "<div>\n",
       "<style scoped>\n",
       "    .dataframe tbody tr th:only-of-type {\n",
       "        vertical-align: middle;\n",
       "    }\n",
       "\n",
       "    .dataframe tbody tr th {\n",
       "        vertical-align: top;\n",
       "    }\n",
       "\n",
       "    .dataframe thead th {\n",
       "        text-align: right;\n",
       "    }\n",
       "</style>\n",
       "<table border=\"1\" class=\"dataframe\">\n",
       "  <thead>\n",
       "    <tr style=\"text-align: right;\">\n",
       "      <th></th>\n",
       "      <th>review</th>\n",
       "      <th>sentiment</th>\n",
       "      <th>polarity</th>\n",
       "    </tr>\n",
       "  </thead>\n",
       "  <tbody>\n",
       "    <tr>\n",
       "      <th>0</th>\n",
       "      <td>A few years ago a doctor at an urgent care cli...</td>\n",
       "      <td>-0.139583</td>\n",
       "      <td>0.485417</td>\n",
       "    </tr>\n",
       "    <tr>\n",
       "      <th>1</th>\n",
       "      <td>After my neck fusion to my cervical C5|6|7| bo...</td>\n",
       "      <td>0.096087</td>\n",
       "      <td>0.385435</td>\n",
       "    </tr>\n",
       "    <tr>\n",
       "      <th>2</th>\n",
       "      <td>Its been ok but had others that worked better</td>\n",
       "      <td>0.500000</td>\n",
       "      <td>0.500000</td>\n",
       "    </tr>\n",
       "    <tr>\n",
       "      <th>3</th>\n",
       "      <td>Severe neuropathic pain in left leg into my to...</td>\n",
       "      <td>-0.500000</td>\n",
       "      <td>0.500000</td>\n",
       "    </tr>\n",
       "    <tr>\n",
       "      <th>4</th>\n",
       "      <td>Pain relief was minimal. I had almost all the ...</td>\n",
       "      <td>0.108333</td>\n",
       "      <td>0.500000</td>\n",
       "    </tr>\n",
       "  </tbody>\n",
       "</table>\n",
       "</div>"
      ],
      "text/plain": [
       "                                              review  sentiment  polarity\n",
       "0  A few years ago a doctor at an urgent care cli...  -0.139583  0.485417\n",
       "1  After my neck fusion to my cervical C5|6|7| bo...   0.096087  0.385435\n",
       "2     Its been ok but had others that worked better   0.500000  0.500000\n",
       "3  Severe neuropathic pain in left leg into my to...  -0.500000  0.500000\n",
       "4  Pain relief was minimal. I had almost all the ...   0.108333  0.500000"
      ]
     },
     "execution_count": 267,
     "metadata": {},
     "output_type": "execute_result"
    }
   ],
   "source": [
    "df3 = pd.DataFrame(bloblist, columns = ['review','sentiment','polarity'])\n",
    "df3.head()"
   ]
  },
  {
   "cell_type": "markdown",
   "metadata": {},
   "source": [
    "#### Assinging values to positive and negative comments or subjective and objective comments"
   ]
  },
  {
   "cell_type": "code",
   "execution_count": 277,
   "metadata": {},
   "outputs": [],
   "source": [
    "df3['positive'] = np.where(df3.sentiment > .2,1,0)"
   ]
  },
  {
   "cell_type": "code",
   "execution_count": 279,
   "metadata": {},
   "outputs": [],
   "source": [
    "df3['Subjective'] = np.where(df3.polarity < .49,1,0)"
   ]
  },
  {
   "cell_type": "code",
   "execution_count": 280,
   "metadata": {},
   "outputs": [
    {
     "name": "stdout",
     "output_type": "stream",
     "text": [
      "\n",
      "Postive Comments :  200\n",
      "\n",
      "Negative Comments :  799\n"
     ]
    }
   ],
   "source": [
    "pos_count = len(df3[(df3['positive'] == 1)])\n",
    "neg_count = len(df3[(df3['positive'] == 0)])\n",
    "print(\"\\nPostive Comments : \",pos_count)\n",
    "print(\"\\nNegative Comments : \",neg_count)"
   ]
  },
  {
   "cell_type": "markdown",
   "metadata": {},
   "source": [
    "#### It is observed that from the sample of 1000 reviews 799 turned out to be negative comments. Whereas only 200 were positive. This shows that overall people are not very satistfied with this particular product"
   ]
  },
  {
   "cell_type": "code",
   "execution_count": 281,
   "metadata": {},
   "outputs": [
    {
     "data": {
      "text/html": [
       "<div>\n",
       "<style scoped>\n",
       "    .dataframe tbody tr th:only-of-type {\n",
       "        vertical-align: middle;\n",
       "    }\n",
       "\n",
       "    .dataframe tbody tr th {\n",
       "        vertical-align: top;\n",
       "    }\n",
       "\n",
       "    .dataframe thead th {\n",
       "        text-align: right;\n",
       "    }\n",
       "</style>\n",
       "<table border=\"1\" class=\"dataframe\">\n",
       "  <thead>\n",
       "    <tr style=\"text-align: right;\">\n",
       "      <th></th>\n",
       "      <th>review</th>\n",
       "      <th>sentiment</th>\n",
       "      <th>polarity</th>\n",
       "      <th>positive</th>\n",
       "      <th>Negative</th>\n",
       "      <th>Subjective</th>\n",
       "    </tr>\n",
       "  </thead>\n",
       "  <tbody>\n",
       "    <tr>\n",
       "      <th>0</th>\n",
       "      <td>A few years ago a doctor at an urgent care cli...</td>\n",
       "      <td>-0.139583</td>\n",
       "      <td>0.485417</td>\n",
       "      <td>0</td>\n",
       "      <td>1</td>\n",
       "      <td>1</td>\n",
       "    </tr>\n",
       "    <tr>\n",
       "      <th>1</th>\n",
       "      <td>After my neck fusion to my cervical C5|6|7| bo...</td>\n",
       "      <td>0.096087</td>\n",
       "      <td>0.385435</td>\n",
       "      <td>0</td>\n",
       "      <td>1</td>\n",
       "      <td>1</td>\n",
       "    </tr>\n",
       "    <tr>\n",
       "      <th>2</th>\n",
       "      <td>Its been ok but had others that worked better</td>\n",
       "      <td>0.500000</td>\n",
       "      <td>0.500000</td>\n",
       "      <td>1</td>\n",
       "      <td>0</td>\n",
       "      <td>0</td>\n",
       "    </tr>\n",
       "    <tr>\n",
       "      <th>3</th>\n",
       "      <td>Severe neuropathic pain in left leg into my to...</td>\n",
       "      <td>-0.500000</td>\n",
       "      <td>0.500000</td>\n",
       "      <td>0</td>\n",
       "      <td>1</td>\n",
       "      <td>0</td>\n",
       "    </tr>\n",
       "    <tr>\n",
       "      <th>4</th>\n",
       "      <td>Pain relief was minimal. I had almost all the ...</td>\n",
       "      <td>0.108333</td>\n",
       "      <td>0.500000</td>\n",
       "      <td>0</td>\n",
       "      <td>1</td>\n",
       "      <td>0</td>\n",
       "    </tr>\n",
       "  </tbody>\n",
       "</table>\n",
       "</div>"
      ],
      "text/plain": [
       "                                              review  sentiment  polarity  \\\n",
       "0  A few years ago a doctor at an urgent care cli...  -0.139583  0.485417   \n",
       "1  After my neck fusion to my cervical C5|6|7| bo...   0.096087  0.385435   \n",
       "2     Its been ok but had others that worked better   0.500000  0.500000   \n",
       "3  Severe neuropathic pain in left leg into my to...  -0.500000  0.500000   \n",
       "4  Pain relief was minimal. I had almost all the ...   0.108333  0.500000   \n",
       "\n",
       "   positive  Negative  Subjective  \n",
       "0         0         1           1  \n",
       "1         0         1           1  \n",
       "2         1         0           0  \n",
       "3         0         1           0  \n",
       "4         0         1           0  "
      ]
     },
     "execution_count": 281,
     "metadata": {},
     "output_type": "execute_result"
    }
   ],
   "source": [
    "df3.head()"
   ]
  },
  {
   "cell_type": "markdown",
   "metadata": {},
   "source": [
    "#### Also, It is observed that we have more than half of the reviews which were classified as subjective."
   ]
  },
  {
   "cell_type": "code",
   "execution_count": 282,
   "metadata": {},
   "outputs": [
    {
     "name": "stdout",
     "output_type": "stream",
     "text": [
      "\n",
      "Subjective Comments :  565\n",
      "\n",
      "Objective Comments :  434\n"
     ]
    }
   ],
   "source": [
    "sub_count = len(df3[(df3['Subjective'] == 1)])\n",
    "obj_count = len(df3[(df3['Subjective'] == 0)])\n",
    "print(\"\\nSubjective Comments : \",sub_count)\n",
    "print(\"\\nObjective Comments : \",obj_count)"
   ]
  },
  {
   "cell_type": "markdown",
   "metadata": {},
   "source": [
    "### Conclusion:\n",
    "1. It leaves us to a conclusion that the reviews we scrapped and analysed are __heavily biased__ and hence __can not be recommended__ to use for strategic market analysis.<break>\n",
    "    \n",
    "2. People are __extremely polarised__ while reviewing the products on WebMD website. This make it less usefull for studying it for commercial purposes.<break>\n",
    "\n",
    "3. However, We spotted some useful information regarding the __side-effects__ that people were suffering from. The analysis also revealed the __competitors drugs__ which people were referring to as an alternative.\n",
    "\n",
    "4. We also get some knowledge about the __satisfaction__ of the drug in different __age and gender categories__."
   ]
  },
  {
   "cell_type": "code",
   "execution_count": null,
   "metadata": {},
   "outputs": [],
   "source": []
  }
 ],
 "metadata": {
  "kernelspec": {
   "display_name": "Python 3",
   "language": "python",
   "name": "python3"
  },
  "language_info": {
   "codemirror_mode": {
    "name": "ipython",
    "version": 3
   },
   "file_extension": ".py",
   "mimetype": "text/x-python",
   "name": "python",
   "nbconvert_exporter": "python",
   "pygments_lexer": "ipython3",
   "version": "3.6.4"
  }
 },
 "nbformat": 4,
 "nbformat_minor": 2
}
